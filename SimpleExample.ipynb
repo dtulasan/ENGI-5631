{
 "cells": [
  {
   "cell_type": "markdown",
   "metadata": {},
   "source": [
    "Introduction\n",
    "--------------\n",
    "\n",
    "This Notebook is the simplest example for how to run one single piece of code in Python for the course. If you are interested, one of the possible Mid-Term projects is to create a Notebook for all the examples with complete explanations based on the Tutorial.\n"
   ]
  },
  {
   "cell_type": "code",
   "execution_count": 2,
   "metadata": {
    "collapsed": false
   },
   "outputs": [
    {
     "name": "stdout",
     "output_type": "stream",
     "text": [
      "\n",
      " Hello world! Python is great!\n"
     ]
    }
   ],
   "source": [
    "#This is the simplest of the codes for Python\n",
    "\n",
    "txt=\"Python is great!\"\n",
    "print('\\n Hello world! '+txt)\n"
   ]
  },
  {
   "cell_type": "markdown",
   "metadata": {},
   "source": [
    "We just ran our first Python code on a notebook!"
   ]
  }
 ],
 "metadata": {
  "kernelspec": {
   "display_name": "Python [Root]",
   "language": "python",
   "name": "Python [Root]"
  },
  "language_info": {
   "codemirror_mode": {
    "name": "ipython",
    "version": 2
   },
   "file_extension": ".py",
   "mimetype": "text/x-python",
   "name": "python",
   "nbconvert_exporter": "python",
   "pygments_lexer": "ipython2",
   "version": "2.7.12"
  }
 },
 "nbformat": 4,
 "nbformat_minor": 0
}
